{
 "cells": [
  {
   "cell_type": "code",
   "execution_count": 1,
   "metadata": {},
   "outputs": [],
   "source": [
    "import json\n",
    "from fastlabel import labelling_tool"
   ]
  },
  {
   "cell_type": "code",
   "execution_count": 2,
   "metadata": {},
   "outputs": [],
   "source": [
    "with open('settings.json') as f:\n",
    "    cfg = json.load(f)"
   ]
  },
  {
   "cell_type": "code",
   "execution_count": 3,
   "metadata": {},
   "outputs": [
    {
     "data": {
      "text/plain": [
       "{'default': 'All', 'natural': 'Natural', 'artificial': 'Artificial'}"
      ]
     },
     "execution_count": 3,
     "metadata": {},
     "output_type": "execute_result"
    }
   ],
   "source": [
    "cfg['Colour Schemes']"
   ]
  },
  {
   "cell_type": "code",
   "execution_count": 4,
   "metadata": {},
   "outputs": [],
   "source": [
    "colour_schemes = [\n",
    "    dict(name=key, human_name=value) for key, value in cfg['Colour Schemes'].items()\n",
    "]"
   ]
  },
  {
   "cell_type": "code",
   "execution_count": 12,
   "metadata": {},
   "outputs": [],
   "source": [
    "def get_color_scheme(cfg):\n",
    "    colour_schemes = [\n",
    "    dict(name=key, human_name=value) for key, value in cfg['Colour Schemes'].items()\n",
    "    ]\n",
    "    return colour_schemes"
   ]
  },
  {
   "cell_type": "code",
   "execution_count": 13,
   "metadata": {},
   "outputs": [
    {
     "data": {
      "text/plain": [
       "[{'name': 'default', 'human_name': 'All'},\n",
       " {'name': 'natural', 'human_name': 'Natural'},\n",
       " {'name': 'artificial', 'human_name': 'Artificial'}]"
      ]
     },
     "execution_count": 13,
     "metadata": {},
     "output_type": "execute_result"
    }
   ],
   "source": [
    "get_color_scheme(cfg)"
   ]
  },
  {
   "cell_type": "code",
   "execution_count": 19,
   "metadata": {},
   "outputs": [],
   "source": [
    "def get_labels(cfg, section=\"Label Classes\"):\n",
    "    \"Extract labels from json\"\n",
    "    label_classes = []\n",
    "    for group_name, group_props in cfg[section].items():\n",
    "        classes = []\n",
    "        for label_class, values in group_props.items():\n",
    "            classes.append(labelling_tool.LabelClass(label_class, values['name'], values['colours']))\n",
    "        label_classes.append(labelling_tool.LabelClassGroup(group_name, classes))\n",
    "    return label_classes"
   ]
  },
  {
   "cell_type": "code",
   "execution_count": 20,
   "metadata": {},
   "outputs": [
    {
     "data": {
      "text/plain": [
       "[<fastlabel.labelling_tool.LabelClassGroup at 0x7f2aafcc11c0>,\n",
       " <fastlabel.labelling_tool.LabelClassGroup at 0x7f2aaf90a610>]"
      ]
     },
     "execution_count": 20,
     "metadata": {},
     "output_type": "execute_result"
    }
   ],
   "source": [
    "get_labels(cfg)"
   ]
  },
  {
   "cell_type": "code",
   "execution_count": 24,
   "metadata": {},
   "outputs": [],
   "source": [
    "def _add_control(name, d):\n",
    "    \"Check control type and setup corresnponding interface control\"\n",
    "    if name.lower() == 'checkbox':\n",
    "        return labelling_tool.AnnoControlCheckbox(d['id'], d['name'])\n",
    "    elif name.lower() == 'radiobuttons':\n",
    "        return labelling_tool.AnnoControlRadioButtons(\n",
    "            d['id'], \n",
    "            d[\"name\"], \n",
    "            choices=[labelling_tool.AnnoControlPopupMenu.choice(**choice) for choice in d[\"choices\"]]\n",
    "        )\n",
    "    elif name.lower() == 'popup':\n",
    "        groups = []\n",
    "        for group in d['groups']:\n",
    "            groups.append(\n",
    "                labelling_tool.AnnoControlPopupMenu.group(\n",
    "                    label_text=group['label_text'], \n",
    "                    choices=[labelling_tool.AnnoControlPopupMenu.choice(**c) for c in group['choices']]\n",
    "                )\n",
    "            )\n",
    "        return labelling_tool.AnnoControlPopupMenu(d['id'], d['name'], groups=groups)            "
   ]
  },
  {
   "cell_type": "code",
   "execution_count": 25,
   "metadata": {},
   "outputs": [],
   "source": [
    "def get_anno_controls(cfg, section=\"Annotation Controls\"):\n",
    "    anno_controls = []\n",
    "    for control_name, params in cfg[\"Annotation Controls\"].items():\n",
    "        anno_controls.append(_add_control(control_name, params))\n",
    "    return anno_controls"
   ]
  },
  {
   "cell_type": "code",
   "execution_count": 26,
   "metadata": {},
   "outputs": [
    {
     "data": {
      "text/plain": [
       "[<fastlabel.labelling_tool.AnnoControlCheckbox at 0x7f2aaff73c10>,\n",
       " <fastlabel.labelling_tool.AnnoControlRadioButtons at 0x7f2aaff73fd0>,\n",
       " <fastlabel.labelling_tool.AnnoControlPopupMenu at 0x7f2aaff73790>]"
      ]
     },
     "execution_count": 26,
     "metadata": {},
     "output_type": "execute_result"
    }
   ],
   "source": [
    "get_anno_controls(cfg)"
   ]
  },
  {
   "cell_type": "code",
   "execution_count": null,
   "metadata": {},
   "outputs": [],
   "source": []
  }
 ],
 "metadata": {
  "kernelspec": {
   "display_name": "Python 3",
   "language": "python",
   "name": "python3"
  },
  "language_info": {
   "codemirror_mode": {
    "name": "ipython",
    "version": 3
   },
   "file_extension": ".py",
   "mimetype": "text/x-python",
   "name": "python",
   "nbconvert_exporter": "python",
   "pygments_lexer": "ipython3",
   "version": "3.8.3"
  }
 },
 "nbformat": 4,
 "nbformat_minor": 4
}
